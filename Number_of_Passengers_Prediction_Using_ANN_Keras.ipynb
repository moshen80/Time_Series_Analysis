{
 "cells": [
  {
   "cell_type": "code",
   "execution_count": 3,
   "id": "41771a54-d2f7-4df6-b58f-6e6fe34caa6f",
   "metadata": {},
   "outputs": [],
   "source": [
    "import numpy as np\n",
    "import matplotlib.pyplot as plt\n",
    "from pandas import read_csv\n",
    "import math\n",
    "\n",
    "from tensorflow.keras.models import Sequential\n",
    "from tensorflow.keras.layers import Dense, LSTM, SimpleRNN\n",
    "from sklearn.preprocessing import MinMaxScaler\n",
    "from sklearn.metrics import mean_squared_error\n",
    "from keras.preprocessing.sequence import TimeseriesGenerator # Generates batches for sequence data"
   ]
  },
  {
   "cell_type": "code",
   "execution_count": 4,
   "id": "cf824668-795e-4d51-a8c0-837ee7ab8776",
   "metadata": {},
   "outputs": [
    {
     "data": {
      "text/plain": [
       "[<matplotlib.lines.Line2D at 0x7fd4caa07c40>]"
      ]
     },
     "execution_count": 4,
     "metadata": {},
     "output_type": "execute_result"
    },
    {
     "data": {
      "image/png": "[encoded data removed]",
      "text/plain": [
       "<Figure size 432x288 with 1 Axes>"
      ]
     },
     "metadata": {
      "needs_background": "light"
     },
     "output_type": "display_data"
    }
   ],
   "source": [
    "# load the dataset\n",
    "dataframe = read_csv('Data/AirPassengers.csv', usecols=[1])\n",
    "plt.plot(dataframe)"
   ]
  },
  {
   "cell_type": "code",
   "execution_count": 5,
   "id": "d54dd9d1-c7b6-448e-b61a-09f9052ff7b1",
   "metadata": {},
   "outputs": [],
   "source": [
    "#Convert pandas dataframe to numpy array\n",
    "dataset = dataframe.values\n",
    "dataset = dataset.astype('float32') #COnvert values to float"
   ]
  },
  {
   "cell_type": "markdown",
   "id": "8434b923-0dd8-45c9-9d5c-47b00c861fd7",
   "metadata": {},
   "source": [
    "Input data Normalization"
   ]
  },
  {
   "cell_type": "code",
   "execution_count": 22,
   "id": "c6d48de7-81d8-4329-be8c-efd47d12a604",
   "metadata": {},
   "outputs": [],
   "source": [
    "scaler = MinMaxScaler(feature_range=(0, 1))\n",
    "dataset = scaler.fit_transform(dataset)"
   ]
  },
  {
   "cell_type": "markdown",
   "id": "7cb11a7e-0326-4a49-88eb-c2d431570f32",
   "metadata": {},
   "source": [
    "#### Splitting the data to train/test set\n",
    "Since the data is a sequence of events we can't simply shuffle and split the data\\\n",
    "which potentially affect the forcasting/predition process\\\n",
    "instead we can split the data into 2/3 of sequential data for training and 1/3 for testing"
   ]
  },
  {
   "cell_type": "code",
   "execution_count": 7,
   "id": "a24d766a-26fc-4b40-98f0-04f3956f3ca8",
   "metadata": {},
   "outputs": [],
   "source": [
    "train_size = int(len(dataset) * 0.66)\n",
    "test_size = len(dataset) - train_size\n",
    "train, test = dataset[0:train_size,:], dataset[train_size:len(dataset),:]"
   ]
  },
  {
   "cell_type": "markdown",
   "id": "9a9b5cc9-8856-4c35-9add-64ddb668204e",
   "metadata": {},
   "source": [
    "#### Preprocessing the data for forcasting purpose\n",
    "in order use a simple ANN for time series forcasting,\\ \n",
    "we can use a seq_size of the time series an input and the next point in the time series as output\\\n",
    "and build a regression model that given seq_size of previous data, predict the next point in the sequennce"
   ]
  },
  {
   "cell_type": "code",
   "execution_count": null,
   "id": "e008ac9f-34b5-4902-8f93-63b5973c0ad5",
   "metadata": {},
   "outputs": [],
   "source": [
    "seq_size = 20 # Number of time steps to look back \n",
    "#Larger sequences (look further back) may improve forecasting.\n",
    "# trainX, trainY = to_sequences(train, seq_size)\n",
    "# testX, testY = to_sequences(test, seq_size)\n",
    "\n",
    "#Compare trainX and dataset. You can see that X= values at t, t+1 and t+2\n",
    "#whereas Y is the value that follows, t+3 (since our sequence size is 3)\n",
    "\n",
    "# print(\"Shape of training set: {}\".format(trainX.shape))\n",
    "# print(\"Shape of test set: {}\".format(testX.shape))"
   ]
  },
  {
   "cell_type": "markdown",
   "id": "b9c08419-c09b-4384-8d10-d02bbc7001e9",
   "metadata": {},
   "source": [
    "#### Using Keras for ML Input generation"
   ]
  },
  {
   "cell_type": "code",
   "execution_count": 9,
   "id": "414c90c6-0be6-42a4-afdd-5e485ea7fbe7",
   "metadata": {},
   "outputs": [
    {
     "name": "stdout",
     "output_type": "stream",
     "text": [
      "Total number of samples in the original training data =  95\n",
      "Total number of samples in the generated data =  75\n"
     ]
    }
   ],
   "source": [
    "batch_size = 1\n",
    "train_generator = TimeseriesGenerator(train.reshape(-1), train.reshape(-1), length=seq_size, batch_size=batch_size)\n",
    "print(\"Total number of samples in the original training data = \", len(train)) # 95\n",
    "print(\"Total number of samples in the generated data = \", len(train_generator)) # 55"
   ]
  },
  {
   "cell_type": "code",
   "execution_count": 10,
   "id": "95555375-02af-4f4d-a938-cbbdc4ca9328",
   "metadata": {},
   "outputs": [
    {
     "name": "stdout",
     "output_type": "stream",
     "text": [
      "Build feed forward NN model...\n"
     ]
    }
   ],
   "source": [
    "validation_generator = TimeseriesGenerator(test.reshape(-1), test.reshape(-1), length=seq_size, batch_size=batch_size)"
   ]
  },
  {
   "cell_type": "code",
   "execution_count": 11,
   "id": "df2091f4-3d65-4850-859a-61436afd01b4",
   "metadata": {},
   "outputs": [
    {
     "name": "stdout",
     "output_type": "stream",
     "text": [
      "Model: \"sequential\"\n",
      "_________________________________________________________________\n",
      "Layer (type)                 Output Shape              Param #   \n",
      "=================================================================\n",
      "dense (Dense)                (None, 64)                1344      \n",
      "_________________________________________________________________\n",
      "dense_1 (Dense)              (None, 32)                2080      \n",
      "_________________________________________________________________\n",
      "dense_2 (Dense)              (None, 1)                 33        \n",
      "=================================================================\n",
      "Total params: 3,457\n",
      "Trainable params: 3,457\n",
      "Non-trainable params: 0\n",
      "_________________________________________________________________\n",
      "None\n"
     ]
    }
   ],
   "source": [
    "model = Sequential()\n",
    "model.add(Dense(64, input_dim=seq_size, activation='relu')) #12\n",
    "model.add(Dense(32, activation='relu'))  #8\n",
    "model.add(Dense(1))\n",
    "model.compile(loss='mean_squared_error', optimizer='adam', metrics = ['acc'])\n",
    "print(model.summary()) "
   ]
  },
  {
   "cell_type": "code",
   "execution_count": 17,
   "id": "b52ab521-b79e-4ab3-879f-3ef862f41d98",
   "metadata": {},
   "outputs": [
    {
     "name": "stdout",
     "output_type": "stream",
     "text": [
      "Epoch 1/100\n",
      "75/75 - 0s - loss: 2.5653e-04 - acc: 0.0000e+00 - val_loss: 0.0013 - val_acc: 0.0345\n",
      "Epoch 2/100\n",
      "75/75 - 0s - loss: 2.1169e-04 - acc: 0.0000e+00 - val_loss: 0.0024 - val_acc: 0.0345\n",
      "Epoch 3/100\n",
      "75/75 - 0s - loss: 2.1829e-04 - acc: 0.0000e+00 - val_loss: 0.0016 - val_acc: 0.0345\n",
      "Epoch 4/100\n",
      "75/75 - 0s - loss: 1.9890e-04 - acc: 0.0000e+00 - val_loss: 0.0013 - val_acc: 0.0345\n",
      "Epoch 5/100\n",
      "75/75 - 0s - loss: 2.0962e-04 - acc: 0.0000e+00 - val_loss: 0.0018 - val_acc: 0.0345\n",
      "Epoch 6/100\n",
      "75/75 - 0s - loss: 2.1970e-04 - acc: 0.0000e+00 - val_loss: 0.0024 - val_acc: 0.0345\n",
      "Epoch 7/100\n",
      "75/75 - 0s - loss: 3.9023e-04 - acc: 0.0000e+00 - val_loss: 0.0017 - val_acc: 0.0345\n",
      "Epoch 8/100\n",
      "75/75 - 0s - loss: 1.8590e-04 - acc: 0.0000e+00 - val_loss: 0.0018 - val_acc: 0.0345\n",
      "Epoch 9/100\n",
      "75/75 - 0s - loss: 2.2418e-04 - acc: 0.0000e+00 - val_loss: 0.0014 - val_acc: 0.0345\n",
      "Epoch 10/100\n",
      "75/75 - 0s - loss: 1.7717e-04 - acc: 0.0000e+00 - val_loss: 0.0015 - val_acc: 0.0345\n",
      "Epoch 11/100\n",
      "75/75 - 0s - loss: 2.2477e-04 - acc: 0.0000e+00 - val_loss: 0.0016 - val_acc: 0.0345\n",
      "Epoch 12/100\n",
      "75/75 - 0s - loss: 3.3081e-04 - acc: 0.0000e+00 - val_loss: 0.0015 - val_acc: 0.0345\n",
      "Epoch 13/100\n",
      "75/75 - 0s - loss: 1.8920e-04 - acc: 0.0000e+00 - val_loss: 0.0015 - val_acc: 0.0345\n",
      "Epoch 14/100\n",
      "75/75 - 0s - loss: 1.9032e-04 - acc: 0.0000e+00 - val_loss: 0.0014 - val_acc: 0.0345\n",
      "Epoch 15/100\n",
      "75/75 - 0s - loss: 2.8760e-04 - acc: 0.0000e+00 - val_loss: 0.0052 - val_acc: 0.0345\n",
      "Epoch 16/100\n",
      "75/75 - 0s - loss: 3.3691e-04 - acc: 0.0000e+00 - val_loss: 0.0012 - val_acc: 0.0345\n",
      "Epoch 17/100\n",
      "75/75 - 0s - loss: 5.3062e-04 - acc: 0.0000e+00 - val_loss: 0.0029 - val_acc: 0.0345\n",
      "Epoch 18/100\n",
      "75/75 - 0s - loss: 3.1457e-04 - acc: 0.0000e+00 - val_loss: 0.0048 - val_acc: 0.0345\n",
      "Epoch 19/100\n",
      "75/75 - 0s - loss: 5.0711e-04 - acc: 0.0000e+00 - val_loss: 0.0061 - val_acc: 0.0345\n",
      "Epoch 20/100\n",
      "75/75 - 0s - loss: 5.9712e-04 - acc: 0.0000e+00 - val_loss: 0.0015 - val_acc: 0.0345\n",
      "Epoch 21/100\n",
      "75/75 - 0s - loss: 1.9791e-04 - acc: 0.0000e+00 - val_loss: 0.0015 - val_acc: 0.0345\n",
      "Epoch 22/100\n",
      "75/75 - 0s - loss: 2.0311e-04 - acc: 0.0000e+00 - val_loss: 0.0014 - val_acc: 0.0345\n",
      "Epoch 23/100\n",
      "75/75 - 0s - loss: 2.3125e-04 - acc: 0.0000e+00 - val_loss: 0.0014 - val_acc: 0.0345\n",
      "Epoch 24/100\n",
      "75/75 - 0s - loss: 2.3834e-04 - acc: 0.0000e+00 - val_loss: 0.0015 - val_acc: 0.0345\n",
      "Epoch 25/100\n",
      "75/75 - 0s - loss: 1.5759e-04 - acc: 0.0000e+00 - val_loss: 0.0015 - val_acc: 0.0345\n",
      "Epoch 26/100\n",
      "75/75 - 0s - loss: 1.9572e-04 - acc: 0.0000e+00 - val_loss: 0.0015 - val_acc: 0.0345\n",
      "Epoch 27/100\n",
      "75/75 - 0s - loss: 2.8510e-04 - acc: 0.0000e+00 - val_loss: 0.0024 - val_acc: 0.0345\n",
      "Epoch 28/100\n",
      "75/75 - 0s - loss: 3.0354e-04 - acc: 0.0000e+00 - val_loss: 0.0018 - val_acc: 0.0345\n",
      "Epoch 29/100\n",
      "75/75 - 0s - loss: 2.5673e-04 - acc: 0.0000e+00 - val_loss: 0.0034 - val_acc: 0.0345\n",
      "Epoch 30/100\n",
      "75/75 - 0s - loss: 3.7687e-04 - acc: 0.0000e+00 - val_loss: 0.0018 - val_acc: 0.0345\n",
      "Epoch 31/100\n",
      "75/75 - 0s - loss: 2.7451e-04 - acc: 0.0000e+00 - val_loss: 0.0019 - val_acc: 0.0345\n",
      "Epoch 32/100\n",
      "75/75 - 0s - loss: 1.9448e-04 - acc: 0.0000e+00 - val_loss: 0.0016 - val_acc: 0.0345\n",
      "Epoch 33/100\n",
      "75/75 - 0s - loss: 2.1032e-04 - acc: 0.0000e+00 - val_loss: 0.0015 - val_acc: 0.0345\n",
      "Epoch 34/100\n",
      "75/75 - 0s - loss: 2.4902e-04 - acc: 0.0000e+00 - val_loss: 0.0034 - val_acc: 0.0345\n",
      "Epoch 35/100\n",
      "75/75 - 0s - loss: 2.3244e-04 - acc: 0.0000e+00 - val_loss: 0.0018 - val_acc: 0.0345\n",
      "Epoch 36/100\n",
      "75/75 - 0s - loss: 2.2568e-04 - acc: 0.0000e+00 - val_loss: 0.0020 - val_acc: 0.0345\n",
      "Epoch 37/100\n",
      "75/75 - 0s - loss: 2.1190e-04 - acc: 0.0000e+00 - val_loss: 0.0019 - val_acc: 0.0345\n",
      "Epoch 38/100\n",
      "75/75 - 0s - loss: 2.4059e-04 - acc: 0.0000e+00 - val_loss: 0.0016 - val_acc: 0.0345\n",
      "Epoch 39/100\n",
      "75/75 - 0s - loss: 2.1082e-04 - acc: 0.0000e+00 - val_loss: 0.0025 - val_acc: 0.0345\n",
      "Epoch 40/100\n",
      "75/75 - 0s - loss: 2.0213e-04 - acc: 0.0000e+00 - val_loss: 0.0015 - val_acc: 0.0345\n",
      "Epoch 41/100\n",
      "75/75 - 0s - loss: 1.9058e-04 - acc: 0.0000e+00 - val_loss: 0.0016 - val_acc: 0.0345\n",
      "Epoch 42/100\n",
      "75/75 - 0s - loss: 1.1619e-04 - acc: 0.0000e+00 - val_loss: 0.0020 - val_acc: 0.0345\n",
      "Epoch 43/100\n",
      "75/75 - 0s - loss: 2.0366e-04 - acc: 0.0000e+00 - val_loss: 0.0013 - val_acc: 0.0345\n",
      "Epoch 44/100\n",
      "75/75 - 0s - loss: 1.4569e-04 - acc: 0.0000e+00 - val_loss: 0.0024 - val_acc: 0.0345\n",
      "Epoch 45/100\n",
      "75/75 - 0s - loss: 1.7968e-04 - acc: 0.0000e+00 - val_loss: 0.0014 - val_acc: 0.0345\n",
      "Epoch 46/100\n",
      "75/75 - 0s - loss: 2.6481e-04 - acc: 0.0000e+00 - val_loss: 0.0032 - val_acc: 0.0345\n",
      "Epoch 47/100\n",
      "75/75 - 0s - loss: 2.6875e-04 - acc: 0.0000e+00 - val_loss: 0.0018 - val_acc: 0.0345\n",
      "Epoch 48/100\n",
      "75/75 - 0s - loss: 1.8408e-04 - acc: 0.0000e+00 - val_loss: 0.0019 - val_acc: 0.0345\n",
      "Epoch 49/100\n",
      "75/75 - 0s - loss: 1.4002e-04 - acc: 0.0000e+00 - val_loss: 0.0011 - val_acc: 0.0345\n",
      "Epoch 50/100\n",
      "75/75 - 0s - loss: 1.7903e-04 - acc: 0.0000e+00 - val_loss: 0.0016 - val_acc: 0.0345\n",
      "Epoch 51/100\n",
      "75/75 - 0s - loss: 4.5083e-04 - acc: 0.0000e+00 - val_loss: 0.0046 - val_acc: 0.0345\n",
      "Epoch 52/100\n",
      "75/75 - 0s - loss: 2.5159e-04 - acc: 0.0000e+00 - val_loss: 0.0016 - val_acc: 0.0345\n",
      "Epoch 53/100\n",
      "75/75 - 0s - loss: 2.9992e-04 - acc: 0.0000e+00 - val_loss: 0.0027 - val_acc: 0.0345\n",
      "Epoch 54/100\n",
      "75/75 - 0s - loss: 2.0609e-04 - acc: 0.0000e+00 - val_loss: 0.0020 - val_acc: 0.0345\n",
      "Epoch 55/100\n",
      "75/75 - 0s - loss: 1.4871e-04 - acc: 0.0000e+00 - val_loss: 0.0016 - val_acc: 0.0345\n",
      "Epoch 56/100\n",
      "75/75 - 0s - loss: 1.8527e-04 - acc: 0.0000e+00 - val_loss: 0.0016 - val_acc: 0.0345\n",
      "Epoch 57/100\n",
      "75/75 - 0s - loss: 1.5197e-04 - acc: 0.0000e+00 - val_loss: 0.0018 - val_acc: 0.0345\n",
      "Epoch 58/100\n",
      "75/75 - 0s - loss: 1.4229e-04 - acc: 0.0000e+00 - val_loss: 0.0016 - val_acc: 0.0345\n",
      "Epoch 59/100\n",
      "75/75 - 0s - loss: 1.3573e-04 - acc: 0.0000e+00 - val_loss: 0.0030 - val_acc: 0.0345\n",
      "Epoch 60/100\n",
      "75/75 - 0s - loss: 2.2923e-04 - acc: 0.0000e+00 - val_loss: 0.0015 - val_acc: 0.0345\n",
      "Epoch 61/100\n",
      "75/75 - 0s - loss: 2.0714e-04 - acc: 0.0000e+00 - val_loss: 0.0018 - val_acc: 0.0345\n",
      "Epoch 62/100\n",
      "75/75 - 0s - loss: 2.6778e-04 - acc: 0.0000e+00 - val_loss: 0.0058 - val_acc: 0.0345\n",
      "Epoch 63/100\n",
      "75/75 - 0s - loss: 6.2066e-04 - acc: 0.0000e+00 - val_loss: 0.0033 - val_acc: 0.0345\n",
      "Epoch 64/100\n",
      "75/75 - 0s - loss: 2.0596e-04 - acc: 0.0000e+00 - val_loss: 0.0017 - val_acc: 0.0345\n",
      "Epoch 65/100\n",
      "75/75 - 0s - loss: 1.2838e-04 - acc: 0.0000e+00 - val_loss: 0.0012 - val_acc: 0.0345\n",
      "Epoch 66/100\n",
      "75/75 - 0s - loss: 1.6418e-04 - acc: 0.0000e+00 - val_loss: 0.0017 - val_acc: 0.0345\n",
      "Epoch 67/100\n",
      "75/75 - 0s - loss: 1.4421e-04 - acc: 0.0000e+00 - val_loss: 0.0023 - val_acc: 0.0345\n",
      "Epoch 68/100\n",
      "75/75 - 0s - loss: 2.5027e-04 - acc: 0.0000e+00 - val_loss: 0.0023 - val_acc: 0.0345\n",
      "Epoch 69/100\n",
      "75/75 - 0s - loss: 3.0725e-04 - acc: 0.0000e+00 - val_loss: 0.0033 - val_acc: 0.0345\n",
      "Epoch 70/100\n",
      "75/75 - 0s - loss: 2.6139e-04 - acc: 0.0000e+00 - val_loss: 0.0022 - val_acc: 0.0345\n",
      "Epoch 71/100\n",
      "75/75 - 0s - loss: 1.5544e-04 - acc: 0.0000e+00 - val_loss: 0.0022 - val_acc: 0.0345\n",
      "Epoch 72/100\n",
      "75/75 - 0s - loss: 1.5081e-04 - acc: 0.0000e+00 - val_loss: 0.0024 - val_acc: 0.0345\n",
      "Epoch 73/100\n",
      "75/75 - 0s - loss: 1.7191e-04 - acc: 0.0000e+00 - val_loss: 0.0044 - val_acc: 0.0345\n",
      "Epoch 74/100\n",
      "75/75 - 0s - loss: 2.1174e-04 - acc: 0.0000e+00 - val_loss: 0.0024 - val_acc: 0.0345\n",
      "Epoch 75/100\n",
      "75/75 - 0s - loss: 1.0970e-04 - acc: 0.0000e+00 - val_loss: 0.0029 - val_acc: 0.0345\n",
      "Epoch 76/100\n",
      "75/75 - 0s - loss: 1.4263e-04 - acc: 0.0000e+00 - val_loss: 0.0019 - val_acc: 0.0345\n",
      "Epoch 77/100\n",
      "75/75 - 0s - loss: 1.4570e-04 - acc: 0.0000e+00 - val_loss: 0.0018 - val_acc: 0.0345\n",
      "Epoch 78/100\n",
      "75/75 - 0s - loss: 1.2679e-04 - acc: 0.0000e+00 - val_loss: 0.0022 - val_acc: 0.0345\n",
      "Epoch 79/100\n",
      "75/75 - 0s - loss: 1.7193e-04 - acc: 0.0000e+00 - val_loss: 0.0017 - val_acc: 0.0345\n",
      "Epoch 80/100\n",
      "75/75 - 0s - loss: 2.2605e-04 - acc: 0.0000e+00 - val_loss: 0.0019 - val_acc: 0.0345\n",
      "Epoch 81/100\n",
      "75/75 - 0s - loss: 3.9222e-04 - acc: 0.0000e+00 - val_loss: 0.0016 - val_acc: 0.0345\n",
      "Epoch 82/100\n",
      "75/75 - 0s - loss: 1.3744e-04 - acc: 0.0000e+00 - val_loss: 0.0024 - val_acc: 0.0345\n",
      "Epoch 83/100\n",
      "75/75 - 0s - loss: 1.8663e-04 - acc: 0.0000e+00 - val_loss: 0.0017 - val_acc: 0.0345\n",
      "Epoch 84/100\n",
      "75/75 - 0s - loss: 1.4212e-04 - acc: 0.0000e+00 - val_loss: 0.0023 - val_acc: 0.0345\n",
      "Epoch 85/100\n",
      "75/75 - 0s - loss: 1.5013e-04 - acc: 0.0000e+00 - val_loss: 0.0025 - val_acc: 0.0345\n",
      "Epoch 86/100\n",
      "75/75 - 0s - loss: 1.2783e-04 - acc: 0.0000e+00 - val_loss: 0.0028 - val_acc: 0.0345\n",
      "Epoch 87/100\n",
      "75/75 - 0s - loss: 1.4264e-04 - acc: 0.0000e+00 - val_loss: 0.0025 - val_acc: 0.0345\n",
      "Epoch 88/100\n",
      "75/75 - 0s - loss: 1.5654e-04 - acc: 0.0000e+00 - val_loss: 0.0042 - val_acc: 0.0345\n",
      "Epoch 89/100\n",
      "75/75 - 0s - loss: 3.3517e-04 - acc: 0.0000e+00 - val_loss: 0.0033 - val_acc: 0.0345\n",
      "Epoch 90/100\n",
      "75/75 - 0s - loss: 1.6115e-04 - acc: 0.0000e+00 - val_loss: 0.0029 - val_acc: 0.0345\n",
      "Epoch 91/100\n",
      "75/75 - 0s - loss: 1.7932e-04 - acc: 0.0000e+00 - val_loss: 0.0025 - val_acc: 0.0345\n",
      "Epoch 92/100\n",
      "75/75 - 0s - loss: 1.4428e-04 - acc: 0.0000e+00 - val_loss: 0.0026 - val_acc: 0.0345\n",
      "Epoch 93/100\n",
      "75/75 - 0s - loss: 1.1948e-04 - acc: 0.0000e+00 - val_loss: 0.0026 - val_acc: 0.0345\n",
      "Epoch 94/100\n",
      "75/75 - 0s - loss: 1.5267e-04 - acc: 0.0000e+00 - val_loss: 0.0018 - val_acc: 0.0345\n",
      "Epoch 95/100\n",
      "75/75 - 0s - loss: 1.2539e-04 - acc: 0.0000e+00 - val_loss: 0.0021 - val_acc: 0.0345\n",
      "Epoch 96/100\n",
      "75/75 - 0s - loss: 1.7575e-04 - acc: 0.0000e+00 - val_loss: 0.0026 - val_acc: 0.0345\n",
      "Epoch 97/100\n",
      "75/75 - 0s - loss: 3.1421e-04 - acc: 0.0000e+00 - val_loss: 0.0031 - val_acc: 0.0345\n",
      "Epoch 98/100\n",
      "75/75 - 0s - loss: 2.0305e-04 - acc: 0.0000e+00 - val_loss: 0.0023 - val_acc: 0.0345\n",
      "Epoch 99/100\n",
      "75/75 - 0s - loss: 1.0959e-04 - acc: 0.0000e+00 - val_loss: 0.0018 - val_acc: 0.0345\n",
      "Epoch 100/100\n",
      "75/75 - 0s - loss: 1.2168e-04 - acc: 0.0000e+00 - val_loss: 0.0021 - val_acc: 0.0345\n"
     ]
    },
    {
     "data": {
      "text/plain": [
       "<keras.callbacks.History at 0x7fd4a874dfa0>"
      ]
     },
     "execution_count": 17,
     "metadata": {},
     "output_type": "execute_result"
    }
   ],
   "source": [
    "model.fit(train_generator, verbose=2, epochs=100, validation_data=validation_generator)"
   ]
  },
  {
   "cell_type": "markdown",
   "id": "86fb9e21-7df0-44f1-8faa-ccf0825d595f",
   "metadata": {},
   "source": [
    "#### Make Model Prediction\n",
    "After Traing the model, we can Predict/Forcast the rest of the data (Val/test sets)\\\n",
    "We can use Minimax Inverse Transform to scale back the peredicted the data"
   ]
  },
  {
   "cell_type": "code",
   "execution_count": 13,
   "id": "04452eff-8a6e-48d2-be2b-9190458f9a66",
   "metadata": {},
   "outputs": [],
   "source": [
    "trainPredict = model.predict(train_generator)\n",
    "testPredict = model.predict(validation_generator)\n",
    "trainPredict = scaler.inverse_transform(trainPredict)\n",
    "trainY_inverse = scaler.inverse_transform(train)\n",
    "testPredict = scaler.inverse_transform(testPredict)\n",
    "testY_inverse = scaler.inverse_transform(test)"
   ]
  },
  {
   "cell_type": "markdown",
   "id": "aab96f7d-7156-4b3f-adbb-d7c8ede288e3",
   "metadata": {},
   "source": [
    "#### Calculating the RMSE for the train/test set"
   ]
  },
  {
   "cell_type": "code",
   "execution_count": 14,
   "id": "8db06362-2af8-481a-a035-5bbb50d94306",
   "metadata": {},
   "outputs": [
    {
     "name": "stdout",
     "output_type": "stream",
     "text": [
      "Train Score: 8.19 RMSE\n",
      "Test Score: 19.45 RMSE\n"
     ]
    }
   ],
   "source": [
    "trainScore = math.sqrt(mean_squared_error(trainY_inverse[seq_size:], trainPredict[:,0]))\n",
    "print('Train Score: %.2f RMSE' % (trainScore))\n",
    "\n",
    "testScore = math.sqrt(mean_squared_error(testY_inverse[seq_size:], testPredict[:,0]))\n",
    "print('Test Score: %.2f RMSE' % (testScore))"
   ]
  },
  {
   "cell_type": "markdown",
   "id": "1333960d-335e-46c2-91ca-a3cfaaba4757",
   "metadata": {},
   "source": [
    "#### Plotting the test/train predicted data along with actual data"
   ]
  },
  {
   "cell_type": "code",
   "execution_count": 15,
   "id": "7a4c89c0-0638-42c8-9208-eadae13565f1",
   "metadata": {},
   "outputs": [
    {
     "data": {
      "image/png": "[encoded data removed]",
      "text/plain": [
       "<Figure size 432x288 with 1 Axes>"
      ]
     },
     "metadata": {
      "needs_background": "light"
     },
     "output_type": "display_data"
    }
   ],
   "source": [
    "\n",
    "trainPredictPlot = np.empty_like(dataset)\n",
    "trainPredictPlot[:, :] = np.nan\n",
    "trainPredictPlot[seq_size:len(trainPredict)+seq_size, :] = trainPredict\n",
    "\n",
    "testPredictPlot = np.empty_like(dataset)\n",
    "testPredictPlot[:, :] = np.nan\n",
    "testPredictPlot[len(train)+(seq_size)-1:len(dataset)-1, :] = testPredict\n",
    "\n",
    "\n",
    "plt.plot(scaler.inverse_transform(dataset))\n",
    "plt.plot(trainPredictPlot)\n",
    "plt.plot(testPredictPlot)\n",
    "plt.show()"
   ]
  },
  {
   "cell_type": "code",
   "execution_count": null,
   "id": "1f9b198f-b7a3-4e7f-b5d9-fe8cfaccffe8",
   "metadata": {},
   "outputs": [],
   "source": []
  }
 ],
 "metadata": {
  "kernelspec": {
   "display_name": "Python 3",
   "language": "python",
   "name": "python3"
  },
  "language_info": {
   "codemirror_mode": {
    "name": "ipython",
    "version": 3
   },
   "file_extension": ".py",
   "mimetype": "text/x-python",
   "name": "python",
   "nbconvert_exporter": "python",
   "pygments_lexer": "ipython3",
   "version": "3.9.5"
  }
 },
 "nbformat": 4,
 "nbformat_minor": 5
}
